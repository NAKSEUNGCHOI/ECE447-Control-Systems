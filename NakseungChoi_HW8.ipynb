{
  "nbformat": 4,
  "nbformat_minor": 0,
  "metadata": {
    "colab": {
      "name": "NakseungChoi of 447_hw8.ipynb",
      "provenance": [],
      "collapsed_sections": []
    },
    "kernelspec": {
      "display_name": "Python 3",
      "language": "python",
      "name": "python3"
    },
    "language_info": {
      "codemirror_mode": {
        "name": "ipython",
        "version": 2
      },
      "file_extension": ".py",
      "mimetype": "text/x-python",
      "name": "python",
      "nbconvert_exporter": "python",
      "pygments_lexer": "ipython2",
      "version": "2.7.15+"
    }
  },
  "cells": [
    {
      "cell_type": "markdown",
      "metadata": {
        "id": "gqyprtgkiL91"
      },
      "source": [
        "# HW8 due 5p Fri Dec 3\n",
        "\n",
        "You are welcome (and encouraged) to work with others, but each individual must submit their own writeup.\n",
        "\n",
        "You are welcome to use analytical and numerical computational tools; if you do, include the **commented** sourcecode in your submission (e.g. the .ipynb file).\n",
        "\n",
        "You are welcome to consult websites, textbooks, and other materials; if you do, include a full citation in your writeup (e.g. the .ipynb file).\n",
        "\n",
        "**Important:** before you do any work in the Colaboratory notebook, click \"File -> Save a copy in Drive ...\" and rename the file to something memorable."
      ]
    },
    {
      "cell_type": "markdown",
      "metadata": {
        "id": "CorRwlNV_VbX"
      },
      "source": [
        "# 0. [Nakseung]; [Choi]\n",
        "\n",
        "a. Approximately how many hours did you spend on this assignment?\n",
        "  7 hrs\n",
        "b. Were there specific problems that took much longer than others?\n",
        "\n",
        "c. What class meeting(s) did you participate in this week?\n",
        "\n",
        "d. What timezone(s) were you working in this week?"
      ]
    },
    {
      "cell_type": "code",
      "metadata": {
        "colab": {
          "base_uri": "https://localhost:8080/"
        },
        "id": "nVavJo_LDOcb",
        "outputId": "f24fac74-297f-4713-e609-643d4c853189"
      },
      "source": [
        "# \"magic\" commands, prefaced with \"%\", changes settings in the notebook\n",
        "\n",
        "# this ensures plots are embedded in notebook web page\n",
        "%matplotlib inline\n",
        "\n",
        "# pdb = Python debugger, so this command turns the debugger OFF\n",
        "%pdb off"
      ],
      "execution_count": 17,
      "outputs": [
        {
          "output_type": "stream",
          "name": "stdout",
          "text": [
            "Automatic pdb calling has been turned OFF\n"
          ]
        }
      ]
    },
    {
      "cell_type": "code",
      "metadata": {
        "colab": {
          "base_uri": "https://localhost:8080/"
        },
        "id": "K2t0nbRxJ15T",
        "outputId": "2a4f5b6b-e8f4-4170-a227-18c628d6a062"
      },
      "source": [
        "# import useful python packages\n",
        "!pip install control\n",
        "import numpy as np\n",
        "import pylab as plt\n",
        "from control import place as place"
      ],
      "execution_count": 27,
      "outputs": [
        {
          "output_type": "stream",
          "name": "stdout",
          "text": [
            "Requirement already satisfied: control in /usr/local/lib/python3.7/dist-packages (0.9.0)\n",
            "Requirement already satisfied: matplotlib in /usr/local/lib/python3.7/dist-packages (from control) (3.2.2)\n",
            "Requirement already satisfied: numpy in /usr/local/lib/python3.7/dist-packages (from control) (1.19.5)\n",
            "Requirement already satisfied: scipy in /usr/local/lib/python3.7/dist-packages (from control) (1.4.1)\n",
            "Requirement already satisfied: python-dateutil>=2.1 in /usr/local/lib/python3.7/dist-packages (from matplotlib->control) (2.8.2)\n",
            "Requirement already satisfied: pyparsing!=2.0.4,!=2.1.2,!=2.1.6,>=2.0.1 in /usr/local/lib/python3.7/dist-packages (from matplotlib->control) (3.0.6)\n",
            "Requirement already satisfied: kiwisolver>=1.0.1 in /usr/local/lib/python3.7/dist-packages (from matplotlib->control) (1.3.2)\n",
            "Requirement already satisfied: cycler>=0.10 in /usr/local/lib/python3.7/dist-packages (from matplotlib->control) (0.11.0)\n",
            "Requirement already satisfied: six>=1.5 in /usr/local/lib/python3.7/dist-packages (from python-dateutil>=2.1->matplotlib->control) (1.15.0)\n"
          ]
        }
      ]
    },
    {
      "cell_type": "code",
      "metadata": {
        "id": "jURJsEcIDW3l"
      },
      "source": [
        "# numpy = numerical Python, implements arrays (/ matrices)\n",
        "import numpy as np\n",
        "# limit number of decimal places printed for floating-point numbers\n",
        "np.set_printoptions(precision=3)\n",
        "\n",
        "# scipy = scientific Python, implements operations on arrays / matrices\n",
        "import scipy as sp\n",
        "# linalg = linear algebra, implements eigenvalues, matrix inverse, etc\n",
        "from scipy import linalg as la\n",
        "# optimize = optimization, root finding, etc\n",
        "from scipy import optimize as op\n",
        "\n",
        "# produce matlab-style plots\n",
        "import matplotlib as mpl\n",
        "# increase font size on plots\n",
        "mpl.rc('font',**{'size':18})\n",
        "# use LaTeX to render symbols\n",
        "mpl.rc('text',usetex=False)\n",
        "# render animation\n",
        "mpl.rc('animation',html='html5')\n",
        "# animation\n",
        "from matplotlib import animation as ani\n",
        "# Matlab-style plotting\n",
        "import matplotlib.pyplot as plt\n",
        "\n",
        "# symbolic computation, i.e. computer algebra (like Mathematica, Wolfram Alpha)\n",
        "import sympy as sym\n"
      ],
      "execution_count": 18,
      "outputs": []
    },
    {
      "cell_type": "code",
      "metadata": {
        "id": "cryNILD2DbE8"
      },
      "source": [
        "# os = operating system; access OS-level commands\n",
        "# e.g. create directory, delete file, execute command\n",
        "# (more platform-independent than \"!\")\n",
        "import os"
      ],
      "execution_count": 19,
      "outputs": []
    },
    {
      "cell_type": "code",
      "metadata": {
        "colab": {
          "base_uri": "https://localhost:8080/"
        },
        "id": "XuYR9M5dJL1m",
        "outputId": "22a576b5-f92a-41c0-f82a-790388f854e9"
      },
      "source": [
        "# test whether this is a Colaboratory or Jupyter notebook\n",
        "try:\n",
        "  import google.colab\n",
        "  COLAB = True\n",
        "  print('Colaboratory Notebook')\n",
        "except:\n",
        "  COLAB = False\n",
        "  print('Jupyter Notebook')"
      ],
      "execution_count": 21,
      "outputs": [
        {
          "output_type": "stream",
          "name": "stdout",
          "text": [
            "Colaboratory Notebook\n"
          ]
        }
      ]
    },
    {
      "cell_type": "code",
      "metadata": {
        "colab": {
          "base_uri": "https://localhost:8080/"
        },
        "id": "PBYKC6BmJN-Z",
        "outputId": "d2cda699-8493-4327-d9e1-b6feb83dc683"
      },
      "source": [
        "# Colab notebook\n",
        "if COLAB:\n",
        "  # pip = Python package manager; \"!\" means \"run at system level\"\n",
        "  !pip install control\n",
        "  !pip install JSAnimation\n",
        "  \n",
        "  # render SymPy equations nicely in Colaboratory Notebook\n",
        "  def colab_latex_printer(exp,**options):\n",
        "    from google.colab.output._publish import javascript\n",
        "    url = \"https://cdnjs.cloudflare.com/ajax/libs/mathjax/2.7.3/latest.js?config=default\"\n",
        "    javascript(url=url)\n",
        "    return sym.printing.latex(exp,**options)\n",
        "  \n",
        "  sym.init_printing(use_latex=\"mathjax\",latex_printer=colab_latex_printer)\n",
        "\n",
        "# Jupyter notebook\n",
        "else:\n",
        "  init_printing(use_latex='mathjax')\n",
        "    \n",
        "\n",
        "# Python's Control Systems Toolbox\n",
        "import control as ctrl\n",
        "\n",
        "# SciPy module that implements many of the routines in ctrl\n",
        "from scipy import signal as sig"
      ],
      "execution_count": 22,
      "outputs": [
        {
          "output_type": "stream",
          "name": "stdout",
          "text": [
            "Collecting control\n",
            "  Downloading control-0.9.0.tar.gz (339 kB)\n",
            "\u001b[?25l\r\u001b[K     |█                               | 10 kB 19.0 MB/s eta 0:00:01\r\u001b[K     |██                              | 20 kB 23.4 MB/s eta 0:00:01\r\u001b[K     |███                             | 30 kB 12.2 MB/s eta 0:00:01\r\u001b[K     |███▉                            | 40 kB 9.1 MB/s eta 0:00:01\r\u001b[K     |████▉                           | 51 kB 5.3 MB/s eta 0:00:01\r\u001b[K     |█████▉                          | 61 kB 5.3 MB/s eta 0:00:01\r\u001b[K     |██████▊                         | 71 kB 5.4 MB/s eta 0:00:01\r\u001b[K     |███████▊                        | 81 kB 6.1 MB/s eta 0:00:01\r\u001b[K     |████████▊                       | 92 kB 4.5 MB/s eta 0:00:01\r\u001b[K     |█████████▋                      | 102 kB 5.0 MB/s eta 0:00:01\r\u001b[K     |██████████▋                     | 112 kB 5.0 MB/s eta 0:00:01\r\u001b[K     |███████████▋                    | 122 kB 5.0 MB/s eta 0:00:01\r\u001b[K     |████████████▋                   | 133 kB 5.0 MB/s eta 0:00:01\r\u001b[K     |█████████████▌                  | 143 kB 5.0 MB/s eta 0:00:01\r\u001b[K     |██████████████▌                 | 153 kB 5.0 MB/s eta 0:00:01\r\u001b[K     |███████████████▌                | 163 kB 5.0 MB/s eta 0:00:01\r\u001b[K     |████████████████▍               | 174 kB 5.0 MB/s eta 0:00:01\r\u001b[K     |█████████████████▍              | 184 kB 5.0 MB/s eta 0:00:01\r\u001b[K     |██████████████████▍             | 194 kB 5.0 MB/s eta 0:00:01\r\u001b[K     |███████████████████▎            | 204 kB 5.0 MB/s eta 0:00:01\r\u001b[K     |████████████████████▎           | 215 kB 5.0 MB/s eta 0:00:01\r\u001b[K     |█████████████████████▎          | 225 kB 5.0 MB/s eta 0:00:01\r\u001b[K     |██████████████████████▎         | 235 kB 5.0 MB/s eta 0:00:01\r\u001b[K     |███████████████████████▏        | 245 kB 5.0 MB/s eta 0:00:01\r\u001b[K     |████████████████████████▏       | 256 kB 5.0 MB/s eta 0:00:01\r\u001b[K     |█████████████████████████▏      | 266 kB 5.0 MB/s eta 0:00:01\r\u001b[K     |██████████████████████████      | 276 kB 5.0 MB/s eta 0:00:01\r\u001b[K     |███████████████████████████     | 286 kB 5.0 MB/s eta 0:00:01\r\u001b[K     |████████████████████████████    | 296 kB 5.0 MB/s eta 0:00:01\r\u001b[K     |█████████████████████████████   | 307 kB 5.0 MB/s eta 0:00:01\r\u001b[K     |██████████████████████████████  | 317 kB 5.0 MB/s eta 0:00:01\r\u001b[K     |███████████████████████████████ | 327 kB 5.0 MB/s eta 0:00:01\r\u001b[K     |███████████████████████████████▉| 337 kB 5.0 MB/s eta 0:00:01\r\u001b[K     |████████████████████████████████| 339 kB 5.0 MB/s \n",
            "\u001b[?25hRequirement already satisfied: numpy in /usr/local/lib/python3.7/dist-packages (from control) (1.19.5)\n",
            "Requirement already satisfied: scipy in /usr/local/lib/python3.7/dist-packages (from control) (1.4.1)\n",
            "Requirement already satisfied: matplotlib in /usr/local/lib/python3.7/dist-packages (from control) (3.2.2)\n",
            "Requirement already satisfied: python-dateutil>=2.1 in /usr/local/lib/python3.7/dist-packages (from matplotlib->control) (2.8.2)\n",
            "Requirement already satisfied: kiwisolver>=1.0.1 in /usr/local/lib/python3.7/dist-packages (from matplotlib->control) (1.3.2)\n",
            "Requirement already satisfied: pyparsing!=2.0.4,!=2.1.2,!=2.1.6,>=2.0.1 in /usr/local/lib/python3.7/dist-packages (from matplotlib->control) (3.0.6)\n",
            "Requirement already satisfied: cycler>=0.10 in /usr/local/lib/python3.7/dist-packages (from matplotlib->control) (0.11.0)\n",
            "Requirement already satisfied: six>=1.5 in /usr/local/lib/python3.7/dist-packages (from python-dateutil>=2.1->matplotlib->control) (1.15.0)\n",
            "Building wheels for collected packages: control\n",
            "  Building wheel for control (setup.py) ... \u001b[?25l\u001b[?25hdone\n",
            "  Created wheel for control: filename=control-0.9.0-py2.py3-none-any.whl size=344928 sha256=a622fafbb4d076105e80b2a40a3e14ac8e59980f2a6c95b8275d7140f20b6796\n",
            "  Stored in directory: /root/.cache/pip/wheels/5b/64/54/70faad181d7baff1184541ca00c9a2efa633acd0a811831d30\n",
            "Successfully built control\n",
            "Installing collected packages: control\n",
            "Successfully installed control-0.9.0\n",
            "Collecting JSAnimation\n",
            "  Downloading JSAnimation-0.1.tar.gz (8.9 kB)\n",
            "Building wheels for collected packages: JSAnimation\n",
            "  Building wheel for JSAnimation (setup.py) ... \u001b[?25l\u001b[?25hdone\n",
            "  Created wheel for JSAnimation: filename=JSAnimation-0.1-py3-none-any.whl size=11425 sha256=63101284b4813ab87490f6a4b5b5b0f378c5b8c0f6abfb47ffa4bf1e01c2f6ca\n",
            "  Stored in directory: /root/.cache/pip/wheels/0e/4e/3d/05fb8cca2646ee0bbfbce17c40a970f48d5e0698b9e5aaa91f\n",
            "Successfully built JSAnimation\n",
            "Installing collected packages: JSAnimation\n",
            "Successfully installed JSAnimation-0.1\n"
          ]
        }
      ]
    },
    {
      "cell_type": "code",
      "metadata": {
        "id": "Vpd5jJnKJeFQ"
      },
      "source": [
        "def Jacobian(g,y,d=1e-4):\n",
        "  \"\"\"\n",
        "  approximate derivative via finite-central-differences \n",
        "\n",
        "  input:\n",
        "    g - function - g : R^n -> R^m\n",
        "    y - n array\n",
        "    (optional)\n",
        "    d - scalar - finite differences displacement parameter\n",
        "\n",
        "  output:\n",
        "    Dg(y) - m x n - approximation of Jacobian of g at y\n",
        "  \"\"\"\n",
        "  # given $g:\\mathbb{R}^n\\rightarrow\\mathbb{R}^m$:\n",
        "  # $$D_y g(y)e_j \\approx \\frac{1}{2\\delta}(g(y+\\delta e_j) - g(y - \\delta e_j)),\\ \\delta\\ll 1$$\n",
        "  e = np.identity(len(y))\n",
        "  Dyg = []\n",
        "  for j in range(len(y)):\n",
        "      Dyg.append((.5/d)*(g(y+d*e[j]) - g(y-d*e[j])))\n",
        "  return np.array(Dyg).T\n",
        "\n",
        "def numerical_simulation(f,t,x,t0=0.,dt=1e-4,ut=None,ux=None,utx=None,return_u=False):\n",
        "  \"\"\"\n",
        "  simulate x' = f(x,u) \n",
        "\n",
        "  input:\n",
        "    f : R x X x U --> X - vector field\n",
        "      X - state space (must be vector space)\n",
        "      U - control input set\n",
        "    t - scalar - final simulation time\n",
        "    x - initial condition; element of X\n",
        "\n",
        "    (optional:)\n",
        "    t0 - scalar - initial simulation time\n",
        "    dt - scalar - stepsize parameter\n",
        "    return_u - bool - whether to return u_\n",
        "\n",
        "    (only one of:)\n",
        "    ut : R --> U\n",
        "    ux : X --> U\n",
        "    utx : R x X --> U\n",
        "\n",
        "  output:\n",
        "    t_ - N array - time trajectory\n",
        "    x_ - N x X array - state trajectory\n",
        "    (if return_u:)\n",
        "    u_ - N x U array - state trajectory\n",
        "  \"\"\"\n",
        "  t_,x_,u_ = [t0],[x],[]\n",
        "  \n",
        "  inputs = sum([1 if u is not None else 0 for u in [ut,ux,utx]])\n",
        "  assert inputs <= 1, \"more than one of ut,ux,utx defined\"\n",
        "\n",
        "  if inputs == 0:\n",
        "    assert not return_u, \"no input supplied\"\n",
        "  else:\n",
        "    if ut is not None:\n",
        "      u = lambda t,x : ut(t)\n",
        "    elif ux is not None:\n",
        "      u = lambda t,x : ux(x)\n",
        "    elif utx is not None:\n",
        "      u = lambda t,x : utx(t,x)\n",
        "\n",
        "  while t_[-1]+dt < t:\n",
        "    if inputs == 0:\n",
        "      _t,_x = t_[-1],x_[-1]\n",
        "      dx = f(t_[-1],x_[-1]) * dt\n",
        "    else:\n",
        "      _t,_x,_u = t_[-1],x_[-1],u(t_[-1],x_[-1])\n",
        "      dx = f(_t,_x,_u) * dt\n",
        "      u_.append( _u )\n",
        "\n",
        "    x_.append( _x + dx )\n",
        "    t_.append( _t + dt )\n",
        "\n",
        "  if return_u:\n",
        "    return np.asarray(t_),np.asarray(x_),np.asarray(u_)\n",
        "  else:\n",
        "    return np.asarray(t_),np.asarray(x_)"
      ],
      "execution_count": 25,
      "outputs": []
    },
    {
      "cell_type": "markdown",
      "metadata": {
        "id": "qfw0s9GV0ock"
      },
      "source": [
        "# 1. state and output feedback\n",
        "\n",
        "***Purpose:*** apply analytical and computational techniques to observe and control the state of a *nonlinear* system.\n",
        "\n",
        "Consider the following model of a robot arm from Problem 2 of Homework 6 (hw6p2) that consists of a rigid rod of length $\\ell$ attached to a point mass $m$ at one end and a rotational joint at the other end,\n",
        "\n",
        "$$ \\ m \\ell^2 \\ddot{\\theta} = m g \\ell \\sin\\theta - \\gamma\\dot{\\theta} + \\tau,\\ y = \\ell\\sin\\theta, $$\n",
        "\n",
        "where \n",
        "$\\gamma$ is a coefficient of friction for the rotational joint \n",
        "and \n",
        "$\\tau$ is a torque applied by a motor attached to the rotational joint; use parameter values $m = 1$ kg, $\\ell = 1$ m, $g = 9.81$ m sec$^{-2}$, $\\gamma = 1$ in this problem.\n",
        "\n",
        "a. Implement a simulation where you apply the observer from (hw6p2h.)  and controller from (hw6p2c.) to the ***nonlinear*** system (nonlinear dynamics and nonlinear output equation); provide overlaid plots of states versus time for the nonlinear system and linear controller to verify that (i) the state of the observer converges to the state of the nonlinear system and (ii) the state of the nonlinear system converges to the equilibrium.   \n",
        "\n",
        "***Note:*** the nonlinear system and linear controller should be initialized at non-equal non-equilibrium initial conditions.\n",
        "\n",
        "***Hint:*** the nonlinear system and linear controller should not be initialized too far from the equilibrium.\n",
        "\n",
        "***Bonus:*** Demonstrate that the controller in (a.) fails to stabilize the nonlinear system to the equilibrium by initializing the nonlinear system and/or linear observer sufficiently far from the equilibrium.\n",
        "\n",
        "***Takeaway:*** we can apply linear systems tools to synthesize a controller that stabilizes a nonlinear system ***near an equilibrium***.\n"
      ]
    },
    {
      "cell_type": "code",
      "metadata": {
        "colab": {
          "base_uri": "https://localhost:8080/",
          "height": 682
        },
        "id": "CwB_FqVQtuy8",
        "outputId": "9136f007-c44b-4d28-d4f7-6b014032444e"
      },
      "source": [
        "# Solution for 1 a\n",
        "m = 1 # kg\n",
        "ell = 1 # m\n",
        "g = 9.81 # m/sec/sec\n",
        "gamma = 1 \n",
        "p = [-3. + np.sqrt(5),-3. - np.sqrt(5)]\n",
        "K = ctrl.place(A,B,p)\n",
        "print(K)\n",
        "dt= 0.01\n",
        "\n",
        "A = np.array([[0,1],[g/ell, -gamma/(m*ell**2)]])\n",
        "B = np.array([[0],[1/(m*ell**2)]])\n",
        "C = np.array([[ell, 0]])\n",
        "D = np.array([[0]])\n",
        "roots = [-5+8.66*1j, -5-8.66*1j] #Enter value\n",
        "\n",
        "k1 = m*ell*g+4*m*ell**2\n",
        "k2 = 4*m*ell**2 - gamma\n",
        "\n",
        "L = -ctrl.place(A.T,C.T,roots).T\n",
        "print(L)\n",
        "def f_NL(t,x,u): # nonlinear system state dynamics\n",
        "  theta = x[0]\n",
        "  dtheta = x[1]\n",
        "  ddtheta = g/ell*np.sin(theta) - gamma/(m*(ell**2))*dtheta + u/(m*(ell**2))  # - k1/(m*(ell**2))*theta - k2/(m*(ell**2))*dtheta\n",
        "  dx = np.array([dtheta, ddtheta]).squeeze()\n",
        "  return dx\n",
        "\n",
        "def h_NL(t,x,u): # nonlinear system output dynamics\n",
        "  theta = x[0]\n",
        "  dtheta = x[1]\n",
        "  y = ell * np.sin(theta)\n",
        "  return np.array([[y]])\n",
        "\n",
        "def f_cl(t,z,u): # closed-loop system\n",
        "  x,x_hat = z[:2],z[2:]\n",
        "  u = -np.dot(x_hat,K.T)\n",
        "  \n",
        "  y = h_NL(t,x,u)\n",
        "  y_hat = ell * x_hat[0] # linearized \n",
        "\n",
        "  dx = f_NL(t,x,u)\n",
        "  dx_hat = np.dot(x_hat,A.T) + np.dot(u,B.T) - np.dot(y-y_hat,L.T)\n",
        "  dx_hat = np.array(dx_hat)\n",
        "  dx_hat = dx_hat[0]\n",
        "  # print( \"dx.shape, dx_hat.shape\", dx.shape, dx_hat.shape ) # debug\n",
        "\n",
        "  # combine dynamics of controlled system and observer system\n",
        "  dz = np.hstack((dx,dx_hat))\n",
        "  return dz\n",
        "\n",
        "# non-zero initial state\n",
        "theta0 = 0.1\n",
        "dtheta0 = 0.02\n",
        "theta_hat0 = 0.11\n",
        "dtheta_hat0 = 0.03\n",
        "x0 = np.array([theta0, dtheta0, theta_hat0, dtheta_hat0])\n",
        "T = 10\n",
        "# zero input\n",
        "def u(t):\n",
        "  ut = 0\n",
        "  return ut\n",
        "\n",
        "# numerical simulation returns:\n",
        "# t_ - size N array\n",
        "# x_ - size N x 4 array (since the state is 2-dimensional)\n",
        "t_,z_ = numerical_simulation(f_cl,T,x0,ut=u,dt=dt)\n",
        "z_ = np.squeeze(z_)\n",
        "print(z_.shape)\n",
        "\n",
        "x_ = z_[:,:2]\n",
        "x_hat_ = z_[:,2:]\n",
        "theta_,dtheta_, = x_.T\n",
        "theta_hat_,dtheta_hat_, = x_hat_.T\n",
        "\n",
        "\n",
        "import pylab as plt\n",
        "plt.figure()\n",
        "\n",
        "# plot theta, theta_hat\n",
        "plt.subplot(2,1,1)\n",
        "plt.plot(t_,theta_,'--',lw=4,label=r'$\\theta$')\n",
        "plt.plot(t_,theta_hat_,label=r'$\\widehat{\\theta}$')\n",
        "plt.ylabel(r'$\\theta(t)$')\n",
        "\n",
        "# plot dtheta, dtheta_hat\n",
        "plt.subplot(2,1,2)\n",
        "plt.plot(t_,dtheta_,'--',lw=4,label=r'$\\dot{\\theta}$')\n",
        "plt.plot(t_,dtheta_hat_,label=r'$\\dot{\\widehat{\\theta}}$')\n",
        "plt.ylabel(r'$\\dot{\\theta}(t)$')\n",
        "plt.xlabel(r'time $t$')\n",
        "\n",
        "plt.figure()\n",
        "plt.subplot(1,1,1)\n",
        "plt.plot(theta_,dtheta_,'--',lw=4,label=r'$x$')\n",
        "plt.plot(theta_hat_,dtheta_hat_,label=r'$\\widehat{x}$')\n",
        "plt.ylabel(r'$\\dot{\\theta}(t)$')\n",
        "plt.xlabel(r'${\\theta}(t)$')\n",
        "plt.legend();"
      ],
      "execution_count": 56,
      "outputs": [
        {
          "output_type": "stream",
          "name": "stdout",
          "text": [
            "[[13.81  5.  ]]\n",
            "[[  -9.   ]\n",
            " [-100.806]]\n",
            "(1001, 4)\n"
          ]
        },
        {
          "output_type": "stream",
          "name": "stderr",
          "text": [
            "/usr/local/lib/python3.7/dist-packages/ipykernel_launcher.py:26: VisibleDeprecationWarning: Creating an ndarray from ragged nested sequences (which is a list-or-tuple of lists-or-tuples-or ndarrays with different lengths or shapes) is deprecated. If you meant to do this, you must specify 'dtype=object' when creating the ndarray\n"
          ]
        },
        {
          "output_type": "display_data",
          "data": {
            "image/png": "[encoded data removed]",
            "text/plain": [
              "<Figure size 432x288 with 2 Axes>"
            ]
          },
          "metadata": {
            "needs_background": "light"
          }
        },
        {
          "output_type": "display_data",
          "data": {
            "image/png": "[encoded data removed]",
            "text/plain": [
              "<Figure size 432x288 with 1 Axes>"
            ]
          },
          "metadata": {
            "needs_background": "light"
          }
        }
      ]
    },
    {
      "cell_type": "markdown",
      "metadata": {
        "id": "oWNWeCQEd132"
      },
      "source": [
        "# 2. transfer functions\n",
        "\n",
        "Consider the model of a series RLC circuit from lecture,\n",
        "$$ L \\ddot{q} + R \\dot{q} + q/C = v, $$\n",
        "where $q$ denotes the charge on the capacitor,\n",
        "($R$, $L$, $C$) denote the (resistor, inductor, capacitor) parameters,\n",
        "and $v$ denotes a series voltage source.\n",
        "\n",
        "***Purpose:*** practice determining transfer functions from state-space representations of LTI systems.\n",
        "\n",
        "a. Determine the transfer function from input voltage to capacitor charge $G_{qv}(s)$.\n",
        "\n",
        "$$\\boxed{{G_{qv}=\\frac{q}{v}=\\frac{1}{s^2L+sR+1/C}}}$$\n",
        "\n",
        "b. With $x = (q,\\dot{q})$ as the circuit's state, $u = v$ as the circuit's input, and $y = q$ as the circuit's output, determine matrices $A, B, C, D$ such that\n",
        "\n",
        "$$ \\dot{x} = A x + B u,\\quad y = C x + D u. $$\n",
        "\n",
        "$$\\dot{x} = \\left[\\begin{matrix} \\dot{q} \\\\ \\ddot{q} \\end{matrix}\\right]=A\\left[\\begin{matrix} q\\\\ \\dot{q} \\end{matrix}\\right] + Bv$$\n",
        "\n",
        "$$\\ddot{q}=\\frac{v}{L}-\\frac{R}{L}\\dot{q}-\\frac{q}{LC}$$\n",
        "\n",
        "$$\\dot{x} = \\left[\\begin{matrix} \\dot{q} \\\\ \\ddot{q} \\end{matrix}\\right]=\\left[\\begin{matrix} 0 & 1 \\\\ \\frac{-1}{LC} & \\frac{-R}{L} \\end{matrix}\\right] \\left[\\begin{matrix} q\\\\ \\dot{q} \\end{matrix}\\right] + \\left[\\begin{matrix} 0 \\\\ \\frac{1}{L} \\end{matrix}\\right]v$$\n",
        "\n",
        "$$y=q=C\\left[\\begin{matrix} q\\\\ \\dot{q} \\end{matrix}\\right]+Dv = \\left[\\begin{matrix} 1 & 0 \\end{matrix}\\right]+0v$$\n",
        "\n",
        "$$\\boxed{A=\\left[\\begin{matrix} 0 & 1 \\\\ \\frac{-1}{LC} & \\frac{-R}{L} \\end{matrix}\\right], B=\\left[\\begin{matrix} 0 \\\\ \\frac{1}{L} \\end{matrix}\\right], C=\\left[\\begin{matrix} 1 & 0 \\end{matrix}\\right], D=0}$$\n",
        "\n",
        "\n",
        "c. Verify that the transfer function of the state-space system in (b.) is the same as the transfer function determined in (a.).  (***Hint:***  you just need to compute $C (sI - A)^{-1} B + D$ and verify that it equals $G_{qv}(s)$).\n",
        "\n",
        "$$C (sI - A)^{-1} B + D = \\left[\\begin{matrix} 1 & 0 \\end{matrix}\\right](\\left[\\begin{matrix} s & 0 \\\\ 0 & s \\end{matrix}\\right]-\\left[\\begin{matrix} 0 & 1 \\\\ \\frac{-1}{LC} & \\frac{-R}{L} \\end{matrix}\\right])^{-1}\\left[\\begin{matrix} 0 \\\\ \\frac{1}{L} \\end{matrix}\\right]+0 = \\left[\\begin{matrix} 1 & 0 \\end{matrix}\\right](\\left[\\begin{matrix} s & -1 \\\\ \\frac{1}{LC} & s+\\frac{R}{L} \\end{matrix}\\right])^{-1}\\left[\\begin{matrix} 0 \\\\ \\frac{1}{L} \\end{matrix}\\right]$$\n",
        "\n",
        "$$C (sI - A)^{-1} B + D = \\left[\\begin{matrix} 1 & 0 \\end{matrix}\\right](\\left[\\begin{matrix} s & -1 \\\\ \\frac{1}{LC} & s + \\frac{R}{L} \\end{matrix}\\right])^{-1}\\left[\\begin{matrix} 0 \\\\ \\frac{1}{L} \\end{matrix}\\right]+0 \n",
        "= \\frac{1}{s^2 + \\frac{R}{L}s + \\frac{1}{LC}}(\\left[\\begin{matrix} 1 & 0 \\end{matrix}\\right](\\left[\\begin{matrix} s+\\frac{R}{L} & 1 \\\\ \\frac{-1}{LC} & s \\end{matrix}\\right])\\left[\\begin{matrix} 0 \\\\ \\frac{1}{L} \\end{matrix}\\right])\n",
        "= \\frac{1}{s^2 + \\frac{R}{L}s + \\frac{1}{LC}}(\\left[\\begin{matrix} s + \\frac{R}{L} & 1 \\end{matrix}\\right]\\left[\\begin{matrix} 0 \\\\ \\frac{1}{L} \\end{matrix}\\right])$$\n",
        "\n",
        "$$\\boxed{G_{qv} = \\frac{1}{s^2L+sR+1/C}}$$\n",
        "\n",
        "d. With $\\widetilde{x} = (\\frac{1}{2}(q + \\dot{q}),\\frac{1}{2}(q - \\dot{q}))$ as the state, $u = v$ as the input, and $y = q$ as the output, determine matrices $\\widetilde{A}, \\widetilde{B}, \\widetilde{C}, \\widetilde{D}$ such that\n",
        "\n",
        "$$ \\dot{\\widetilde{x}} = \\widetilde{A} \\widetilde{x} + \\widetilde{B} u,\\quad y = \\widetilde{C} \\widetilde{x} + \\widetilde{D} u. $$\n",
        "\n",
        "$$\\widetilde{A}= TAT^{-1} , \\widetilde{B} = TB$$\n",
        "\n",
        "$$ \\widetilde{x} = Tx$$\n",
        "\n",
        "$$\\left[\\begin{matrix} \\frac{1}{2}(q + \\dot{q}) \\\\ \\frac{1}{2}(q - \\dot{q}) \\end{matrix}\\right] = \\left[\\begin{matrix} \\frac{1}{2} & \\frac{1}{2} \\\\ \\frac{1}{2} & \\frac{-1}{2} \\end{matrix}\\right]\\left[\\begin{matrix} q \\\\ \\dot{q} \\end{matrix}\\right]$$\n",
        "\n",
        "$$\\widetilde{A} = \\left[\\begin{matrix} \\frac{1}{2} & \\frac{1}{2} \\\\ \\frac{1}{2} & \\frac{-1}{2} \\end{matrix}\\right] \\left[\\begin{matrix} 0 & 1 \\\\ \\frac{-1}{LC} & \\frac{-R}{L} \\end{matrix}\\right] \\left[\\begin{matrix} 1 & 1 \\\\ 1 & -1 \\end{matrix}\\right]$$\n",
        "\n",
        "$$\\Leftrightarrow \\left[\\begin{matrix} \\frac{-(RC-LC+1)}{2LC} & \\frac{RC-LC-1}{2LC} \\\\ \\frac{RC+LC+1}{2LC} & \\frac{-(RC+LC-1)}{2LC} \\end{matrix}\\right]$$\n",
        "\n",
        "$$\\widetilde{B} = \\left[\\begin{matrix} \\frac{1}{2} & \\frac{1}{2} \\\\ \\frac{1}{2} & \\frac{-1}{2} \\end{matrix}\\right] \\left[\\begin{matrix} 0 \\\\ \\frac{1}{L} \\end{matrix}\\right] = \\left[\\begin{matrix} \\frac{1}{2L} \\\\ \\frac{-1}{2L} \\end{matrix}\\right]$$\n",
        "\n",
        "\n",
        "$$\\Leftrightarrow \\boxed{\\widetilde{A}=\\left[\\begin{matrix} \\frac{-(RC-LC+1)}{2LC} & \\frac{RC-LC-1}{2LC} \\\\ \\frac{RC+LC+1}{2LC} & \\frac{-(RC+LC-1)}{2LC} \\end{matrix}\\right], \\widetilde{B}=\\left[\\begin{matrix} \\frac{1}{2L} \\\\ \\frac{-1}{2L} \\end{matrix}\\right]}$$\n",
        " \n",
        "$$y=q=\\widetilde{C}\\left[\\begin{matrix} \\frac{1}{2}(q + \\dot{q})\\\\ \\frac{1}{2}(q - \\dot{q}) \\end{matrix}\\right]+\\widetilde{D}u = \\left[\\begin{matrix} 1 & 1 \\end{matrix}\\right]+0u$$\n",
        "\n",
        "$$\\boxed{\\widetilde{C}=\\left[\\begin{matrix} 1 & 1 \\end{matrix}\\right], \\widetilde{D}=0}$$\n",
        "\n",
        "e. Verify that the transfer function of the state-space system in (d.) is the same as the transfer functions obtained in (a.), (c.).  (***Hint:***  you just need to compute $\\widetilde{C} (sI - \\widetilde{A})^{-1} \\widetilde{B} + \\widetilde{D}$ and verify that it equals $G_{qv}(s)$).\n",
        "\n",
        "$$\\widetilde{C} (sI - \\widetilde{A})^{-1} \\widetilde{B} + \\widetilde{D}$$\n",
        "\n",
        "$$ \\Leftrightarrow \\left[\\begin{matrix} 1 & 1 \\end{matrix}\\right] (\\left[\\begin{matrix} s & 0 \\\\ 0 & s \\end{matrix}\\right] - \\left[\\begin{matrix} \\frac{-(RC-LC+1)}{2LC} & \\frac{RC-LC-1}{2LC} \\\\ \\frac{RC+LC+1}{2LC} & \\frac{-(RC+LC-1)}{2LC} \\end{matrix}\\right])^{-1} \\left[\\begin{matrix} \\frac{1}{2L} \\\\ \\frac{-1}{2L} \\end{matrix}\\right]$$\n",
        "\n",
        "$$ \\Leftrightarrow \\left[\\begin{matrix} 1 & 1 \\end{matrix}\\right] (\\left[\\begin{matrix} s + \\frac{(RC-LC+1)}{2LC} & -\\frac{RC-LC-1}{2LC} \\\\ -\\frac{RC+LC+1}{2LC} & s + \\frac{(RC+LC-1)}{2LC} \\end{matrix}\\right])^{-1} \\left[\\begin{matrix} \\frac{1}{2L} \\\\ \\frac{-1}{2L} \\end{matrix}\\right]$$\n",
        "\n",
        "$$\\Leftrightarrow \\left[\\begin{matrix} 1 & 1 \\end{matrix}\\right]  \\frac{1}{s^2 + (\\frac{1}{2LC} - \\frac{1}{2} + \\frac{R}{2L} - \\frac{1}{2LC} + \\frac{1}{2} + \\frac{R}{2L})s + ((\\frac{1}{2LC} - \\frac{1}{2} + \\frac{R}{2L})(-\\frac{1}{2LC} + \\frac{1}{2} + \\frac{R}{2L})) - ((\\frac{1}{2LC} + \\frac{1}{2} - \\frac{R}{2L})(-\\frac{1}{2LC} - \\frac{1}{2} - \\frac{R}{2L}))} \\left[\\begin{matrix} s - \\frac{1-LC-RC}{2LC} & \\frac{-1-LC+RC}{2LC} \\\\ \\frac{1+LC+RC}{2LC} & s + \\frac{1-LC+RC}{2LC} \\end{matrix}\\right] \\left[\\begin{matrix} \\frac{1}{2L} \\\\ -\\frac{1}{2L} \\end{matrix}\\right]$$\n",
        "\n",
        "$$\\Leftrightarrow \\frac{1}{s^2 + \\frac{R}{L}s + \\frac{1}{LC}} \\left[\\begin{matrix} s + 1 + \\frac{R}{L} & s - 1 + \\frac{R}{L} \\end{matrix}\\right] \\left[\\begin{matrix} \\frac{1}{2L} \\\\ -\\frac{1}{2L} \\end{matrix}\\right]$$\n",
        "\n",
        "$$\\boxed{G(s) = \\frac{\\frac{1}{L}}{s^2 + \\frac{R}{L}s + \\frac{1}{LC}}}$$\n",
        "\n",
        "***Bonus:*** Show that the transfer function is the same regardless of the choice of coordinates for the state vector.  (***Hint:*** Let $\\widetilde{x} = T x$ be an arbitrary different choice of state vector (assume $T$ is invertible), determine $\\widetilde{A}, \\widetilde{B}, \\widetilde{C}, \\widetilde{D}$ such that $\\dot{\\widetilde{x}} = \\widetilde{A} \\widetilde{x} + \\widetilde{B} u,\\ y = \\widetilde{C} \\widetilde{x} + \\widetilde{D} u$, and verify that $\\widetilde{C} (sI - \\widetilde{A})^{-1} \\widetilde{B} + \\widetilde{D} = C (sI - A)^{-1} B + D$.)\n",
        "\n",
        "***Takeaway:*** the transfer function of a state-space system is the same regardless of what coordinates you choose for the state vector.  Thus, if we are primarily concerned with a system's input/output response (i.e. how input signal $u$ transforms to output signal $y$) and less concerned with the details of what happens \"inside\" the system (i.e. how the state $x$ is influenced by the input), the transfer function provides a convenient representation."
      ]
    },
    {
      "cell_type": "markdown",
      "metadata": {
        "id": "ySC7Oz2bdYMt"
      },
      "source": [
        "# 3. Bode plots\n",
        "\n",
        "***Purpose:*** visualize and manipulate transfer functions and their interconnections using ***Bode plots***, that is, plots that show how sinusoidal inputs are amplified/attenuated and phase-shifted by a transfer function $G$ as a function of the input frequency $\\omega$.\n",
        "\n",
        "Consider the transfer function process model for an RC circuit with a voltage source as the input and capacitor voltage as the output,\n",
        "\n",
        "$$ P(s) = \\frac{1}{1 + s RC}. $$\n",
        "\n",
        "Use parameter values $R = 1$M$\\Omega$, $C = 1\\mu$F (i.e. $R C = 1$) in the remainder of the problem.\n",
        "\n",
        "a. Create the ***Bode plot*** for $P$, that is, plot $| P(j\\omega) |$ and $\\angle P(j\\omega)$ versus $\\omega$.  (***Hint:*** refer to the RLC Circuit example in Section 2 of the [lecture examples notebook](https://colab.research.google.com/github/sburden/447/blob/master/447_lec_examples.ipynb) for plotting code; you should use the ``plt.subplot``, ``plt.loglog``, and ``plt.semilogx`` functions in your solution.)\n",
        "\n",
        "If we instead consider the transfer function from the input voltage to the resistor voltage, we obtain the transfer function\n",
        "\n",
        "$$ Q(s) = \\frac{s RC}{1 + sRC}. $$\n",
        "\n",
        "**Please scroll down for this solution**\n",
        "\n",
        "b. Create the Bode plot for $Q$.\n",
        "\n",
        "**Please scroll down for this solution**\n",
        "\n",
        "c. Create the Bode plot for the numerator $N(s) = s RC$ of $Q$.\n",
        "\n",
        "**Please scroll down for this solution**\n",
        "\n",
        "d. Noting that $Q(s) = P(s) N(s)$, determine how the Bode plot of $Q$ is related to the Bode plots of $P$ and $N$.  (***Note:*** the magnitude component of the Bode plot should be represented logarithmically.)\n",
        "\n",
        "**Two Bode plots show that PN and Q are the same. The angles and magnitudes of Q are related to the angles and magnitudes of P and N**\n",
        "\n",
        "e. Verify the relationship you derived in (d.) by overlaying the Bode plot of $P(s)N(s)$ on your Bode plot of $Q$ from (b.).\n",
        "\n",
        "**Please scroll down for this solution**\n",
        "\n",
        "f. Describe the Bode plots of $N$, $Q$, and $P$ as ***filters***, that is, explain how each system responds to \"low frequency\" inputs (specify a range of frequencies you regard as \"low\") and \"high frequency\" inputs (specify a range of frequencies you regard as \"high\").  Could you predict the combined response of $Q = P N$  based on the individual responses of $N$ and $P$?\n",
        "\n",
        "P is a low-pass filter. P rejects high > 1 HZ signals and passes low < 1 HZ signals. N is a high-frequency amplifier. N is a high-frequency amplifer. N amplifies high > 1HZ signals and blocks low < 1HZ signals. Q is a high-pass filter. It passes high > 1HZ signals and blocks low < 1 HZ signals. \n",
        "\n",
        "Therefore, I assume that PN=Q blocks low < 1Hz signals and passes high > 1HZ signals.\n",
        "\n",
        "\n",
        "***Takeaway:*** Bode plots provide a convenient visualization of a transfer function that enables us to determine how systems respond to input frequency components, individually and through interconnection."
      ]
    },
    {
      "cell_type": "code",
      "metadata": {
        "colab": {
          "base_uri": "https://localhost:8080/",
          "height": 307
        },
        "id": "ikabXTA1oxeK",
        "outputId": "66439579-996d-40e1-f3df-ca975e695ccb"
      },
      "source": [
        "#solution for 3 a.\n",
        "import numpy as np\n",
        "from matplotlib import pyplot as plt\n",
        "\n",
        "R = 1 \n",
        "C = 1 \n",
        "P = lambda s : 1. / (1+s*R*C)\n",
        "w = np.logspace(-1,1,1000)\n",
        "xlim = w[[0,-1]]\n",
        "abs_P = np.abs(P(1.j*w))\n",
        "angle_P = np.unwrap(np.angle(P(1.j*w)))*180./np.pi\n",
        "plt.figure(); axs = []\n",
        "ax = plt.subplot(2,1,1); ax.grid(True)\n",
        "ax.loglog(w,abs_P,'r-',lw=2)\n",
        "ax.set_ylabel(r'$|P(j\\omega)|$')\n",
        "ax.set_yticks([10**-2,10**-1,10**0])\n",
        "ax.set_xticks([])\n",
        "ax.set_xlim(xlim)\n",
        "axs.append(ax)\n",
        "\n",
        "ax = plt.subplot(2,1,2); ax.grid(True)\n",
        "ax.semilogx(w,angle_P,'r-',lw=2)\n",
        "ax.set_xlabel(r'frequency $\\omega$ (Hz)')\n",
        "ax.set_ylabel(r'$\\angle P(j\\omega)$ (deg)')\n",
        "ax.set_yticks([0,-90,-180])\n",
        "ax.set_xlim(xlim)\n",
        "axs.append(ax)"
      ],
      "execution_count": 52,
      "outputs": [
        {
          "output_type": "display_data",
          "data": {
            "image/png": "[encoded data removed]",
            "text/plain": [
              "<Figure size 432x288 with 2 Axes>"
            ]
          },
          "metadata": {
            "needs_background": "light"
          }
        }
      ]
    },
    {
      "cell_type": "code",
      "metadata": {
        "colab": {
          "base_uri": "https://localhost:8080/",
          "height": 307
        },
        "id": "ATRCXB9GpzPt",
        "outputId": "e388d9a2-cc95-48c8-946b-acf53dfa6ab0"
      },
      "source": [
        "#solution for 3 b.\n",
        "Q = lambda s : s*R*C/(1+s*R*C)\n",
        "\n",
        "abs_Q = np.abs(Q(1.j*w))\n",
        "angle_Q = np.unwrap(np.angle(Q(1.j*w)))*180./np.pi\n",
        "\n",
        "plt.figure(); axs = []\n",
        "ax = plt.subplot(2,1,1); ax.grid(True)\n",
        "ax.loglog(w,abs_Q,'r-',lw=2)\n",
        "ax.set_ylabel(r'$|Q(j\\omega)|$')\n",
        "ax.set_yticks([10**-2,10**-1,10**0])\n",
        "ax.set_xticks([])\n",
        "ax.set_xlim(xlim)\n",
        "axs.append(ax)\n",
        "\n",
        "ax = plt.subplot(2,1,2); ax.grid(True)\n",
        "ax.semilogx(w,angle_Q,'r-',lw=2)\n",
        "ax.set_xlabel(r'frequency $\\omega$ (Hz)')\n",
        "ax.set_ylabel(r'$\\angle Q(j\\omega)$ (deg)')\n",
        "ax.set_yticks([0,-90,-180])\n",
        "ax.set_xlim(xlim)\n",
        "axs.append(ax)"
      ],
      "execution_count": 53,
      "outputs": [
        {
          "output_type": "display_data",
          "data": {
            "image/png": "[encoded data removed]",
            "text/plain": [
              "<Figure size 432x288 with 2 Axes>"
            ]
          },
          "metadata": {
            "needs_background": "light"
          }
        }
      ]
    },
    {
      "cell_type": "code",
      "metadata": {
        "colab": {
          "base_uri": "https://localhost:8080/",
          "height": 301
        },
        "id": "vWo8No3sqE1t",
        "outputId": "2400c717-d803-42da-9ac6-418cf79c8c49"
      },
      "source": [
        "#solution for 3 c.\n",
        "N = lambda s : s*R*C\n",
        "\n",
        "abs_N = np.abs(N(1.j*w))\n",
        "angle_N = np.unwrap(np.angle(N(1.j*w)))*180./np.pi\n",
        "\n",
        "plt.figure(); axs = []\n",
        "ax = plt.subplot(2,1,1); ax.grid(True)\n",
        "ax.loglog(w,abs_N,'r-',lw=2)\n",
        "ax.set_ylabel(r'$|N(j\\omega)|$')\n",
        "ax.set_yticks([10**-2,10**-1,10**0])\n",
        "ax.set_xticks([])\n",
        "ax.set_xlim(xlim)\n",
        "axs.append(ax)\n",
        "\n",
        "ax = plt.subplot(2,1,2); ax.grid(True)\n",
        "ax.semilogx(w,angle_N,'r-',lw=2)\n",
        "ax.set_xlabel(r'frequency $\\omega$ (Hz)')\n",
        "ax.set_ylabel(r'$\\angle N(j\\omega)$ (deg)')\n",
        "ax.set_yticks([0,-90,-180])\n",
        "ax.set_xlim(xlim)\n",
        "axs.append(ax)"
      ],
      "execution_count": 54,
      "outputs": [
        {
          "output_type": "display_data",
          "data": {
            "image/png": "[encoded data removed]",
            "text/plain": [
              "<Figure size 432x288 with 2 Axes>"
            ]
          },
          "metadata": {
            "needs_background": "light"
          }
        }
      ]
    },
    {
      "cell_type": "code",
      "metadata": {
        "colab": {
          "base_uri": "https://localhost:8080/",
          "height": 433
        },
        "id": "HrqMEr8prUFD",
        "outputId": "9be160e0-5787-4df1-9105-6fbbad0cbc98"
      },
      "source": [
        "#solution for 3 e.\n",
        "\n",
        "PN = lambda s : P(s)*N(s)\n",
        "abs_PN = np.abs(PN(1.j*w))\n",
        "angle_PN = np.unwrap(np.angle(PN(1.j*w)))*180./np.pi\n",
        "\n",
        "abs_Q = np.abs(Q(1.j*w))\n",
        "angle_Q = np.unwrap(np.angle(Q(1.j*w)))*180./np.pi\n",
        "\n",
        "# plot Q\n",
        "plt.figure(figsize=(10,5)); axs = []\n",
        "ax = plt.subplot(2,1,1); ax.grid(True)\n",
        "ax.loglog(w,abs_Q,'b-',lw=2)\n",
        "ax.set_ylabel(r'$|Q(j\\omega)|$')\n",
        "ax.set_yticks([10**-2,10**-1,10**0])\n",
        "ax.set_xticks([])\n",
        "ax.set_xlim(xlim)\n",
        "axs.append(ax)\n",
        "\n",
        "ax = plt.subplot(2,1,2); ax.grid(True)\n",
        "ax.semilogx(w,angle_Q,'b-',lw=2,label='Q(s)')\n",
        "ax.set_xlabel(r'frequency $\\omega$ (Hz)')\n",
        "ax.set_ylabel(r'$\\angle Q(j\\omega)$ (deg)')\n",
        "ax.set_yticks([0,-90,-180])\n",
        "ax.set_xlim(xlim)\n",
        "axs.append(ax)\n",
        "\n",
        "# plot P(s)N(s)\n",
        "ax = plt.subplot(2,1,1); ax.grid(True)\n",
        "ax.loglog(w,abs_PN,'r--',lw=2)\n",
        "ax.set_ylabel(r'$|PN(j\\omega)|$')\n",
        "ax.set_yticks([10**-2,10**-1,10**0])\n",
        "ax.set_xticks([])\n",
        "ax.set_xlim(xlim)\n",
        "axs.append(ax)\n",
        "\n",
        "ax = plt.subplot(2,1,2); ax.grid(True)\n",
        "ax.semilogx(w,angle_PN,'y--',lw=2,label='P(s)N(s)')\n",
        "ax.set_xlabel(r'frequency $\\omega$ (Hz)')\n",
        "ax.set_ylabel(r'$\\angle PN(j\\omega)$ (deg)')\n",
        "ax.set_yticks([0,-90,-180])\n",
        "ax.set_xlim(xlim)\n",
        "axs.append(ax)\n",
        "\n",
        "plt.legend()"
      ],
      "execution_count": 55,
      "outputs": [
        {
          "output_type": "stream",
          "name": "stderr",
          "text": [
            "/usr/local/lib/python3.7/dist-packages/ipykernel_launcher.py:29: MatplotlibDeprecationWarning: Adding an axes using the same arguments as a previous axes currently reuses the earlier instance.  In a future version, a new instance will always be created and returned.  Meanwhile, this warning can be suppressed, and the future behavior ensured, by passing a unique label to each axes instance.\n",
            "/usr/local/lib/python3.7/dist-packages/ipykernel_launcher.py:37: MatplotlibDeprecationWarning: Adding an axes using the same arguments as a previous axes currently reuses the earlier instance.  In a future version, a new instance will always be created and returned.  Meanwhile, this warning can be suppressed, and the future behavior ensured, by passing a unique label to each axes instance.\n"
          ]
        },
        {
          "output_type": "execute_result",
          "data": {
            "text/plain": [
              "<matplotlib.legend.Legend at 0x7f6f9c5e2c90>"
            ]
          },
          "metadata": {},
          "execution_count": 55
        },
        {
          "output_type": "display_data",
          "data": {
            "image/png": "[encoded data removed]",
            "text/plain": [
              "<Figure size 720x360 with 2 Axes>"
            ]
          },
          "metadata": {
            "needs_background": "light"
          }
        }
      ]
    },
    {
      "cell_type": "code",
      "metadata": {
        "id": "iTasLZAdrgNr"
      },
      "source": [
        ""
      ],
      "execution_count": null,
      "outputs": []
    }
  ]
}